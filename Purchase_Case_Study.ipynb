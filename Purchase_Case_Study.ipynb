{
  "cells": [
    {
      "cell_type": "markdown",
      "metadata": {},
      "source": [
        "# **Welcome to Purchase Case Study**"
      ]
    },
    {
      "cell_type": "markdown",
      "metadata": {
        "id": "vRGir-j0QHDM"
      },
      "source": [
        "### **Tasks To Be Performed :**\n",
        "\n",
        "Perform a Detailed EDA for the Data with inferences from each of the actions.\n",
        "\n",
        "Using Statistical Analysis, find out statistical evidence for the following:\n",
        "\n",
        "a. It was observed that the average purchase made by the Men of the age 18-25 was 10000. Is it still the same?\n",
        "\n",
        "b. It was observed that the percentage of women of the age that spend more than 10000 was 35%. Is it still the same?\n",
        "\n",
        "c. Are the variances of the purchase amounts significantly different between men and women in the age group 18-25?\"\n",
        "\n",
        "d. Is the percentage of men who have spent more than 10000 the same for the ages 18-25 and 26-35?"
      ]
    },
    {
      "cell_type": "markdown",
      "metadata": {
        "id": "jzoZulsAPiP-"
      },
      "source": [
        "### Exploratory data analysis"
      ]
    },
    {
      "cell_type": "code",
      "execution_count": null,
      "metadata": {
        "id": "pCkaCMg5Lku7"
      },
      "outputs": [],
      "source": [
        "# Import the required libraries\n",
        "import numpy as np\n",
        "import pandas as pd\n",
        "import matplotlib.pyplot as plt\n",
        "import seaborn as sns"
      ]
    },
    {
      "cell_type": "code",
      "execution_count": null,
      "metadata": {
        "colab": {
          "base_uri": "https://localhost:8080/",
          "height": 295
        },
        "id": "tanXLJBCQ3sT",
        "outputId": "59ba73f2-0f39-41a8-9358-19af8262ecf6"
      },
      "outputs": [
        {
          "data": {
            "text/html": [
              "<div>\n",
              "<style scoped>\n",
              "    .dataframe tbody tr th:only-of-type {\n",
              "        vertical-align: middle;\n",
              "    }\n",
              "\n",
              "    .dataframe tbody tr th {\n",
              "        vertical-align: top;\n",
              "    }\n",
              "\n",
              "    .dataframe thead th {\n",
              "        text-align: right;\n",
              "    }\n",
              "</style>\n",
              "<table border=\"1\" class=\"dataframe\">\n",
              "  <thead>\n",
              "    <tr style=\"text-align: right;\">\n",
              "      <th></th>\n",
              "      <th>User_ID</th>\n",
              "      <th>Product_ID</th>\n",
              "      <th>Gender</th>\n",
              "      <th>Age</th>\n",
              "      <th>Occupation</th>\n",
              "      <th>City_Category</th>\n",
              "      <th>Stay_In_Current_City_Years</th>\n",
              "      <th>Marital_Status</th>\n",
              "      <th>Product_Category_1</th>\n",
              "      <th>Product_Category_2</th>\n",
              "      <th>Product_Category_3</th>\n",
              "      <th>Purchase</th>\n",
              "    </tr>\n",
              "  </thead>\n",
              "  <tbody>\n",
              "    <tr>\n",
              "      <th>0</th>\n",
              "      <td>1000001</td>\n",
              "      <td>P00069042</td>\n",
              "      <td>F</td>\n",
              "      <td>0-17</td>\n",
              "      <td>10.0</td>\n",
              "      <td>A</td>\n",
              "      <td>2</td>\n",
              "      <td>0.0</td>\n",
              "      <td>3.0</td>\n",
              "      <td>NaN</td>\n",
              "      <td>NaN</td>\n",
              "      <td>8370.0</td>\n",
              "    </tr>\n",
              "    <tr>\n",
              "      <th>1</th>\n",
              "      <td>1000001</td>\n",
              "      <td>P00248942</td>\n",
              "      <td>F</td>\n",
              "      <td>0-17</td>\n",
              "      <td>10.0</td>\n",
              "      <td>A</td>\n",
              "      <td>2</td>\n",
              "      <td>0.0</td>\n",
              "      <td>1.0</td>\n",
              "      <td>6.0</td>\n",
              "      <td>14.0</td>\n",
              "      <td>15200.0</td>\n",
              "    </tr>\n",
              "    <tr>\n",
              "      <th>2</th>\n",
              "      <td>1000001</td>\n",
              "      <td>P00087842</td>\n",
              "      <td>F</td>\n",
              "      <td>0-17</td>\n",
              "      <td>10.0</td>\n",
              "      <td>A</td>\n",
              "      <td>2</td>\n",
              "      <td>0.0</td>\n",
              "      <td>12.0</td>\n",
              "      <td>NaN</td>\n",
              "      <td>NaN</td>\n",
              "      <td>1422.0</td>\n",
              "    </tr>\n",
              "    <tr>\n",
              "      <th>3</th>\n",
              "      <td>1000001</td>\n",
              "      <td>P00085442</td>\n",
              "      <td>F</td>\n",
              "      <td>0-17</td>\n",
              "      <td>10.0</td>\n",
              "      <td>A</td>\n",
              "      <td>2</td>\n",
              "      <td>0.0</td>\n",
              "      <td>12.0</td>\n",
              "      <td>14.0</td>\n",
              "      <td>NaN</td>\n",
              "      <td>1057.0</td>\n",
              "    </tr>\n",
              "    <tr>\n",
              "      <th>4</th>\n",
              "      <td>1000002</td>\n",
              "      <td>P00285442</td>\n",
              "      <td>M</td>\n",
              "      <td>55+</td>\n",
              "      <td>16.0</td>\n",
              "      <td>C</td>\n",
              "      <td>4+</td>\n",
              "      <td>0.0</td>\n",
              "      <td>8.0</td>\n",
              "      <td>NaN</td>\n",
              "      <td>NaN</td>\n",
              "      <td>7969.0</td>\n",
              "    </tr>\n",
              "  </tbody>\n",
              "</table>\n",
              "</div>"
            ],
            "text/plain": [
              "   User_ID Product_ID Gender   Age  Occupation City_Category  \\\n",
              "0  1000001  P00069042      F  0-17        10.0             A   \n",
              "1  1000001  P00248942      F  0-17        10.0             A   \n",
              "2  1000001  P00087842      F  0-17        10.0             A   \n",
              "3  1000001  P00085442      F  0-17        10.0             A   \n",
              "4  1000002  P00285442      M   55+        16.0             C   \n",
              "\n",
              "  Stay_In_Current_City_Years  Marital_Status  Product_Category_1  \\\n",
              "0                          2             0.0                 3.0   \n",
              "1                          2             0.0                 1.0   \n",
              "2                          2             0.0                12.0   \n",
              "3                          2             0.0                12.0   \n",
              "4                         4+             0.0                 8.0   \n",
              "\n",
              "   Product_Category_2  Product_Category_3  Purchase  \n",
              "0                 NaN                 NaN    8370.0  \n",
              "1                 6.0                14.0   15200.0  \n",
              "2                 NaN                 NaN    1422.0  \n",
              "3                14.0                 NaN    1057.0  \n",
              "4                 NaN                 NaN    7969.0  "
            ]
          },
          "execution_count": 2,
          "metadata": {},
          "output_type": "execute_result"
        }
      ],
      "source": [
        "# Import the required dataset\n",
        "df_purchase = pd.read_csv(r\"D:\\Intellipaat\\python resources\\purchase_data.csv\")\n",
        "df_purchase.head()"
      ]
    },
    {
      "cell_type": "markdown",
      "metadata": {
        "id": "iswHkcsJWonO"
      },
      "source": [
        "### Data Information\n",
        "- **User_ID** :-<br/>\n",
        "    This column represents the unique identifier for each user or customer who made the purchase.\n",
        "<br/><br/>\n",
        "\n",
        "- **Product_ID**:-<br/>\n",
        "    This column contains the unique identifier for each product that was purchased.\n",
        "<br/><br/>\n",
        "\n",
        "- **Gender**:-<br/>\n",
        "    This column indicates the gender of the user who made the purchase.<br/> \n",
        "    It could have values such as \"Male\" or \"Female.\"\n",
        "<br/><br/>\n",
        "\n",
        "- **Age**:-<br/>\n",
        "    This column represents the age group or category of the user who made the purchase.<br/> \n",
        "    It can be categorized into different age ranges, such as \"18-25,\" \"26-35,\" \"36-45,\" and so on.\n",
        "<br/><br/>\n",
        "\n",
        "- **Occupation**:-<br/>\n",
        "    This column denotes the occupation of the user who made the purchase.<br/> \n",
        "    It may include numerical or categorical values representing different professions or job types.\n",
        "<br/><br/>\n",
        "\n",
        "- **City_Category**:-<br/>\n",
        "    This column categorizes the city or region from which the purchase was made.<br/> \n",
        "    It typically includes labels like \"A,\" \"B,\" or \"C\" to represent different city categories or types.\n",
        "<br/><br/>\n",
        "\n",
        "- **Stay_In_Current_City_Years**:-<br/>\n",
        "    This column indicates the number of years the user has been living in their current city.<br/> \n",
        "    It may have values such as \"0\" for less than a year, \"1\" for one year, \"2\" for two years, and so on.\n",
        "<br/><br/>\n",
        "\n",
        "- **Marital_Status**:-<br/>\n",
        "    This column represents the marital status of the user.<br/> \n",
        "    It could be encoded as \"0\" for unmarried/single and \"1\" for married.\n",
        "<br/><br/>\n",
        "\n",
        "- **Product_Category_1**:-<br/>\n",
        "    This column refers to the primary category of the purchased product.<br/> \n",
        "    It may contain numerical or categorical values representing different product categories.\n",
        "<br/><br/>\n",
        "\n",
        "- **Product_Category_2**:-<br/>\n",
        "    This column corresponds to the secondary category of the purchased product.<br/> \n",
        "    It could also contain numerical or categorical values, but it is not necessarily present in all datasets.\n",
        "<br/><br/>\n",
        "\n",
        "- **Product_Category_3**:-<br/>\n",
        "    This column represents the tertiary category of the purchased product.<br/> \n",
        "    Similar to the previous column, it may include numerical or categorical values and might not be present in all datasets.\n",
        "<br/><br/>\n",
        "\n",
        "- **Purchase**:-<br/>\n",
        "    This column contains the amount or value of the purchase made by the user.<br/> \n",
        "    It represents the monetary value or quantity associated with the transaction."
      ]
    },
    {
      "cell_type": "code",
      "execution_count": 3,
      "metadata": {
        "colab": {
          "base_uri": "https://localhost:8080/"
        },
        "id": "z5e9JsEyTMpL",
        "outputId": "0ee985aa-97c5-4236-da0c-44772c18debd"
      },
      "outputs": [
        {
          "data": {
            "text/plain": [
              "(263015, 12)"
            ]
          },
          "execution_count": 3,
          "metadata": {},
          "output_type": "execute_result"
        }
      ],
      "source": [
        "# No. of rows & columns\n",
        "df_purchase.shape"
      ]
    },
    {
      "cell_type": "code",
      "execution_count": 4,
      "metadata": {
        "colab": {
          "base_uri": "https://localhost:8080/"
        },
        "id": "UFlWCn7-TNLB",
        "outputId": "1033f267-f04c-434d-a892-9e0e43070241"
      },
      "outputs": [
        {
          "data": {
            "text/plain": [
              "5892"
            ]
          },
          "execution_count": 4,
          "metadata": {},
          "output_type": "execute_result"
        }
      ],
      "source": [
        "# how many unique users we have\n",
        "df_purchase[\"User_ID\"].nunique()"
      ]
    },
    {
      "cell_type": "code",
      "execution_count": 5,
      "metadata": {
        "colab": {
          "base_uri": "https://localhost:8080/"
        },
        "id": "RTmxKsEkTNOT",
        "outputId": "c0a3ae4f-a6cd-49f4-ccea-b601391f51d3"
      },
      "outputs": [
        {
          "name": "stdout",
          "output_type": "stream",
          "text": [
            "<class 'pandas.core.frame.DataFrame'>\n",
            "RangeIndex: 263015 entries, 0 to 263014\n",
            "Data columns (total 12 columns):\n",
            " #   Column                      Non-Null Count   Dtype  \n",
            "---  ------                      --------------   -----  \n",
            " 0   User_ID                     263015 non-null  int64  \n",
            " 1   Product_ID                  263014 non-null  object \n",
            " 2   Gender                      263014 non-null  object \n",
            " 3   Age                         263014 non-null  object \n",
            " 4   Occupation                  263014 non-null  float64\n",
            " 5   City_Category               263014 non-null  object \n",
            " 6   Stay_In_Current_City_Years  263014 non-null  object \n",
            " 7   Marital_Status              263014 non-null  float64\n",
            " 8   Product_Category_1          263014 non-null  float64\n",
            " 9   Product_Category_2          181501 non-null  float64\n",
            " 10  Product_Category_3          80582 non-null   float64\n",
            " 11  Purchase                    263014 non-null  float64\n",
            "dtypes: float64(6), int64(1), object(5)\n",
            "memory usage: 24.1+ MB\n"
          ]
        }
      ],
      "source": [
        "# Information \n",
        "df_purchase.info()"
      ]
    },
    {
      "cell_type": "code",
      "execution_count": 6,
      "metadata": {
        "colab": {
          "base_uri": "https://localhost:8080/"
        },
        "id": "bgAR_1CoTNRy",
        "outputId": "fc47fe21-cfe7-489e-a895-f4b833418c6e"
      },
      "outputs": [
        {
          "data": {
            "text/plain": [
              "User_ID                         int64\n",
              "Product_ID                     object\n",
              "Gender                         object\n",
              "Age                            object\n",
              "Occupation                    float64\n",
              "City_Category                  object\n",
              "Stay_In_Current_City_Years     object\n",
              "Marital_Status                float64\n",
              "Product_Category_1            float64\n",
              "Product_Category_2            float64\n",
              "Product_Category_3            float64\n",
              "Purchase                      float64\n",
              "dtype: object"
            ]
          },
          "execution_count": 6,
          "metadata": {},
          "output_type": "execute_result"
        }
      ],
      "source": [
        "# data types of columns\n",
        "df_purchase.dtypes"
      ]
    },
    {
      "cell_type": "code",
      "execution_count": null,
      "metadata": {},
      "outputs": [],
      "source": [
        "# Replace 4+ with 4\n",
        "df_purchase['Stay_In_Current_City_Years'] = df_purchase['Stay_In_Current_City_Years'].replace(\"4+\", \"4\")\n",
        "df_purchase"
      ]
    },
    {
      "cell_type": "code",
      "execution_count": 9,
      "metadata": {
        "id": "uG2fjQaPWAw_"
      },
      "outputs": [],
      "source": [
        "# change the datatype of Stay_In_Current_City_Years to integer\n",
        "\n",
        "# Both  \".astype\" & \"pd.to_numeric\" can be used\n",
        "\n",
        "# data[\"Stay_In_Current_City_Years\"] = data[\"Stay_In_Current_City_Years\"].astype(int)\n",
        "# remove nan before implimenting this command\n",
        "\n",
        "df_purchase[\"Stay_In_Current_City_Years\"] = pd.to_numeric(df_purchase[\"Stay_In_Current_City_Years\"], errors = 'coerce')\n",
        "\n",
        "# non convertable values  -> NAN\n",
        "# ? -> NAN\n",
        "# A -> NAN"
      ]
    },
    {
      "cell_type": "code",
      "execution_count": null,
      "metadata": {},
      "outputs": [
        {
          "name": "stdout",
          "output_type": "stream",
          "text": [
            "<class 'pandas.core.frame.DataFrame'>\n",
            "RangeIndex: 263015 entries, 0 to 263014\n",
            "Data columns (total 12 columns):\n",
            " #   Column                      Non-Null Count   Dtype  \n",
            "---  ------                      --------------   -----  \n",
            " 0   User_ID                     263015 non-null  int64  \n",
            " 1   Product_ID                  263014 non-null  object \n",
            " 2   Gender                      263014 non-null  object \n",
            " 3   Age                         263014 non-null  object \n",
            " 4   Occupation                  263014 non-null  float64\n",
            " 5   City_Category               263014 non-null  object \n",
            " 6   Stay_In_Current_City_Years  263014 non-null  float64\n",
            " 7   Marital_Status              263014 non-null  float64\n",
            " 8   Product_Category_1          263014 non-null  float64\n",
            " 9   Product_Category_2          181501 non-null  float64\n",
            " 10  Product_Category_3          80582 non-null   float64\n",
            " 11  Purchase                    263014 non-null  float64\n",
            "dtypes: float64(7), int64(1), object(4)\n",
            "memory usage: 24.1+ MB\n"
          ]
        }
      ],
      "source": [
        "# Overview info of data\n",
        "df_purchase.info()"
      ]
    },
    {
      "cell_type": "code",
      "execution_count": null,
      "metadata": {
        "colab": {
          "base_uri": "https://localhost:8080/"
        },
        "id": "Hdkapv_aX0OE",
        "outputId": "0101330c-d208-4820-ab60-f9ef744a3020"
      },
      "outputs": [
        {
          "data": {
            "text/plain": [
              "User_ID                            0\n",
              "Product_ID                         1\n",
              "Gender                             1\n",
              "Age                                1\n",
              "Occupation                         1\n",
              "City_Category                      1\n",
              "Stay_In_Current_City_Years         1\n",
              "Marital_Status                     1\n",
              "Product_Category_1                 1\n",
              "Product_Category_2             81514\n",
              "Product_Category_3            182433\n",
              "Purchase                           1\n",
              "dtype: int64"
            ]
          },
          "execution_count": 11,
          "metadata": {},
          "output_type": "execute_result"
        }
      ],
      "source": [
        "# Check for null values/ NAN values\n",
        "df_purchase.isna().sum()"
      ]
    },
    {
      "cell_type": "code",
      "execution_count": null,
      "metadata": {
        "id": "nxnA3x53YXg1"
      },
      "outputs": [],
      "source": [
        "# Dropping this null values\n",
        "df_purchase = df_purchase.dropna()"
      ]
    },
    {
      "cell_type": "code",
      "execution_count": null,
      "metadata": {
        "colab": {
          "base_uri": "https://localhost:8080/"
        },
        "id": "tHUeZ92uYr48",
        "outputId": "3c5ac021-d9cb-4b1d-98cd-7cf48a977791"
      },
      "outputs": [
        {
          "data": {
            "text/plain": [
              "(80582, 12)"
            ]
          },
          "execution_count": 13,
          "metadata": {},
          "output_type": "execute_result"
        }
      ],
      "source": [
        "# Check the shape of data\n",
        "df_purchase.shape"
      ]
    },
    {
      "cell_type": "code",
      "execution_count": null,
      "metadata": {
        "colab": {
          "base_uri": "https://localhost:8080/",
          "height": 320
        },
        "id": "QqT1C023YxLH",
        "outputId": "a49b4609-2bf6-4d01-bd2d-3724e6d195e8"
      },
      "outputs": [
        {
          "data": {
            "text/html": [
              "<div>\n",
              "<style scoped>\n",
              "    .dataframe tbody tr th:only-of-type {\n",
              "        vertical-align: middle;\n",
              "    }\n",
              "\n",
              "    .dataframe tbody tr th {\n",
              "        vertical-align: top;\n",
              "    }\n",
              "\n",
              "    .dataframe thead th {\n",
              "        text-align: right;\n",
              "    }\n",
              "</style>\n",
              "<table border=\"1\" class=\"dataframe\">\n",
              "  <thead>\n",
              "    <tr style=\"text-align: right;\">\n",
              "      <th></th>\n",
              "      <th>User_ID</th>\n",
              "      <th>Occupation</th>\n",
              "      <th>Stay_In_Current_City_Years</th>\n",
              "      <th>Marital_Status</th>\n",
              "      <th>Product_Category_1</th>\n",
              "      <th>Product_Category_2</th>\n",
              "      <th>Product_Category_3</th>\n",
              "      <th>Purchase</th>\n",
              "    </tr>\n",
              "  </thead>\n",
              "  <tbody>\n",
              "    <tr>\n",
              "      <th>count</th>\n",
              "      <td>8.058200e+04</td>\n",
              "      <td>80582.000000</td>\n",
              "      <td>80582.000000</td>\n",
              "      <td>80582.000000</td>\n",
              "      <td>80582.000000</td>\n",
              "      <td>80582.000000</td>\n",
              "      <td>80582.000000</td>\n",
              "      <td>80582.000000</td>\n",
              "    </tr>\n",
              "    <tr>\n",
              "      <th>mean</th>\n",
              "      <td>1.002950e+06</td>\n",
              "      <td>8.173426</td>\n",
              "      <td>1.860775</td>\n",
              "      <td>0.401752</td>\n",
              "      <td>2.738366</td>\n",
              "      <td>6.892085</td>\n",
              "      <td>12.658298</td>\n",
              "      <td>11628.183279</td>\n",
              "    </tr>\n",
              "    <tr>\n",
              "      <th>std</th>\n",
              "      <td>1.706623e+03</td>\n",
              "      <td>6.487913</td>\n",
              "      <td>1.285501</td>\n",
              "      <td>0.490255</td>\n",
              "      <td>2.563225</td>\n",
              "      <td>4.498417</td>\n",
              "      <td>4.129156</td>\n",
              "      <td>5069.515441</td>\n",
              "    </tr>\n",
              "    <tr>\n",
              "      <th>min</th>\n",
              "      <td>1.000001e+06</td>\n",
              "      <td>0.000000</td>\n",
              "      <td>0.000000</td>\n",
              "      <td>0.000000</td>\n",
              "      <td>1.000000</td>\n",
              "      <td>2.000000</td>\n",
              "      <td>3.000000</td>\n",
              "      <td>186.000000</td>\n",
              "    </tr>\n",
              "    <tr>\n",
              "      <th>25%</th>\n",
              "      <td>1.001470e+06</td>\n",
              "      <td>2.000000</td>\n",
              "      <td>1.000000</td>\n",
              "      <td>0.000000</td>\n",
              "      <td>1.000000</td>\n",
              "      <td>2.000000</td>\n",
              "      <td>9.000000</td>\n",
              "      <td>7868.000000</td>\n",
              "    </tr>\n",
              "    <tr>\n",
              "      <th>50%</th>\n",
              "      <td>1.002996e+06</td>\n",
              "      <td>7.000000</td>\n",
              "      <td>2.000000</td>\n",
              "      <td>0.000000</td>\n",
              "      <td>1.000000</td>\n",
              "      <td>6.000000</td>\n",
              "      <td>14.000000</td>\n",
              "      <td>11744.500000</td>\n",
              "    </tr>\n",
              "    <tr>\n",
              "      <th>75%</th>\n",
              "      <td>1.004326e+06</td>\n",
              "      <td>14.000000</td>\n",
              "      <td>3.000000</td>\n",
              "      <td>1.000000</td>\n",
              "      <td>4.000000</td>\n",
              "      <td>10.000000</td>\n",
              "      <td>16.000000</td>\n",
              "      <td>15610.000000</td>\n",
              "    </tr>\n",
              "    <tr>\n",
              "      <th>max</th>\n",
              "      <td>1.006040e+06</td>\n",
              "      <td>20.000000</td>\n",
              "      <td>4.000000</td>\n",
              "      <td>1.000000</td>\n",
              "      <td>15.000000</td>\n",
              "      <td>16.000000</td>\n",
              "      <td>18.000000</td>\n",
              "      <td>23958.000000</td>\n",
              "    </tr>\n",
              "  </tbody>\n",
              "</table>\n",
              "</div>"
            ],
            "text/plain": [
              "            User_ID    Occupation  Stay_In_Current_City_Years  Marital_Status  \\\n",
              "count  8.058200e+04  80582.000000                80582.000000    80582.000000   \n",
              "mean   1.002950e+06      8.173426                    1.860775        0.401752   \n",
              "std    1.706623e+03      6.487913                    1.285501        0.490255   \n",
              "min    1.000001e+06      0.000000                    0.000000        0.000000   \n",
              "25%    1.001470e+06      2.000000                    1.000000        0.000000   \n",
              "50%    1.002996e+06      7.000000                    2.000000        0.000000   \n",
              "75%    1.004326e+06     14.000000                    3.000000        1.000000   \n",
              "max    1.006040e+06     20.000000                    4.000000        1.000000   \n",
              "\n",
              "       Product_Category_1  Product_Category_2  Product_Category_3  \\\n",
              "count        80582.000000        80582.000000        80582.000000   \n",
              "mean             2.738366            6.892085           12.658298   \n",
              "std              2.563225            4.498417            4.129156   \n",
              "min              1.000000            2.000000            3.000000   \n",
              "25%              1.000000            2.000000            9.000000   \n",
              "50%              1.000000            6.000000           14.000000   \n",
              "75%              4.000000           10.000000           16.000000   \n",
              "max             15.000000           16.000000           18.000000   \n",
              "\n",
              "           Purchase  \n",
              "count  80582.000000  \n",
              "mean   11628.183279  \n",
              "std     5069.515441  \n",
              "min      186.000000  \n",
              "25%     7868.000000  \n",
              "50%    11744.500000  \n",
              "75%    15610.000000  \n",
              "max    23958.000000  "
            ]
          },
          "execution_count": 14,
          "metadata": {},
          "output_type": "execute_result"
        }
      ],
      "source": [
        "# Statistical summary\n",
        "df_purchase.describe()"
      ]
    },
    {
      "cell_type": "code",
      "execution_count": null,
      "metadata": {
        "colab": {
          "base_uri": "https://localhost:8080/",
          "height": 174
        },
        "id": "okkI7ByvaKq6",
        "outputId": "b2c3a5f4-fc3d-4665-9a17-baf37b451e07"
      },
      "outputs": [
        {
          "data": {
            "text/html": [
              "<div>\n",
              "<style scoped>\n",
              "    .dataframe tbody tr th:only-of-type {\n",
              "        vertical-align: middle;\n",
              "    }\n",
              "\n",
              "    .dataframe tbody tr th {\n",
              "        vertical-align: top;\n",
              "    }\n",
              "\n",
              "    .dataframe thead th {\n",
              "        text-align: right;\n",
              "    }\n",
              "</style>\n",
              "<table border=\"1\" class=\"dataframe\">\n",
              "  <thead>\n",
              "    <tr style=\"text-align: right;\">\n",
              "      <th></th>\n",
              "      <th>Product_ID</th>\n",
              "      <th>Gender</th>\n",
              "      <th>Age</th>\n",
              "      <th>City_Category</th>\n",
              "    </tr>\n",
              "  </thead>\n",
              "  <tbody>\n",
              "    <tr>\n",
              "      <th>count</th>\n",
              "      <td>80582</td>\n",
              "      <td>80582</td>\n",
              "      <td>80582</td>\n",
              "      <td>80582</td>\n",
              "    </tr>\n",
              "    <tr>\n",
              "      <th>unique</th>\n",
              "      <td>525</td>\n",
              "      <td>2</td>\n",
              "      <td>7</td>\n",
              "      <td>3</td>\n",
              "    </tr>\n",
              "    <tr>\n",
              "      <th>top</th>\n",
              "      <td>P00025442</td>\n",
              "      <td>M</td>\n",
              "      <td>26-35</td>\n",
              "      <td>B</td>\n",
              "    </tr>\n",
              "    <tr>\n",
              "      <th>freq</th>\n",
              "      <td>808</td>\n",
              "      <td>62549</td>\n",
              "      <td>32313</td>\n",
              "      <td>33548</td>\n",
              "    </tr>\n",
              "  </tbody>\n",
              "</table>\n",
              "</div>"
            ],
            "text/plain": [
              "       Product_ID Gender    Age City_Category\n",
              "count       80582  80582  80582         80582\n",
              "unique        525      2      7             3\n",
              "top     P00025442      M  26-35             B\n",
              "freq          808  62549  32313         33548"
            ]
          },
          "execution_count": 15,
          "metadata": {},
          "output_type": "execute_result"
        }
      ],
      "source": [
        "# Statistical summary of object columns\n",
        "df_purchase.describe(include = \"object\")"
      ]
    },
    {
      "cell_type": "code",
      "execution_count": null,
      "metadata": {
        "colab": {
          "base_uri": "https://localhost:8080/"
        },
        "id": "FiEQaqYTalhZ",
        "outputId": "eed68327-ddb9-4c0a-8f06-1749035a9e35"
      },
      "outputs": [
        {
          "data": {
            "text/plain": [
              "Gender\n",
              "M    62549\n",
              "F    18033\n",
              "Name: count, dtype: int64"
            ]
          },
          "execution_count": 16,
          "metadata": {},
          "output_type": "execute_result"
        }
      ],
      "source": [
        "# Check the distribution of data\n",
        "df_purchase[\"Gender\"].value_counts()"
      ]
    },
    {
      "cell_type": "code",
      "execution_count": null,
      "metadata": {
        "colab": {
          "base_uri": "https://localhost:8080/"
        },
        "id": "ld0DKOm7a4wP",
        "outputId": "b2f50b50-d097-45f6-b6d4-c2bf0aa0d2fa"
      },
      "outputs": [
        {
          "data": {
            "text/plain": [
              "0"
            ]
          },
          "execution_count": 17,
          "metadata": {},
          "output_type": "execute_result"
        }
      ],
      "source": [
        "# duplicates\n",
        "df_purchase.duplicated().sum()"
      ]
    },
    {
      "cell_type": "code",
      "execution_count": null,
      "metadata": {
        "id": "A3uG6izFcCw7"
      },
      "outputs": [],
      "source": [
        "# If you have duplicates you will remove those\n",
        "# data.drop_duplicates()"
      ]
    },
    {
      "cell_type": "markdown",
      "metadata": {
        "id": "QpEX531Od-WO"
      },
      "source": [
        "### Visualization"
      ]
    },
    {
      "cell_type": "code",
      "execution_count": 19,
      "metadata": {
        "colab": {
          "base_uri": "https://localhost:8080/"
        },
        "id": "davAseREeXF2",
        "outputId": "f485602b-1bb8-4fe4-fe17-114af7ebf1e9"
      },
      "outputs": [
        {
          "data": {
            "text/plain": [
              "Index(['User_ID', 'Product_ID', 'Gender', 'Age', 'Occupation', 'City_Category',\n",
              "       'Stay_In_Current_City_Years', 'Marital_Status', 'Product_Category_1',\n",
              "       'Product_Category_2', 'Product_Category_3', 'Purchase'],\n",
              "      dtype='object')"
            ]
          },
          "execution_count": 19,
          "metadata": {},
          "output_type": "execute_result"
        }
      ],
      "source": [
        "df_purchase.columns"
      ]
    },
    {
      "cell_type": "code",
      "execution_count": null,
      "metadata": {
        "colab": {
          "base_uri": "https://localhost:8080/",
          "height": 466
        },
        "id": "zSs9ehwKcZYH",
        "outputId": "48e99a90-fe21-427c-be34-c1d3dc527d6b"
      },
      "outputs": [
        {
          "data": {
            "text/plain": [
              "<Axes: xlabel='Gender', ylabel='count'>"
            ]
          },
          "execution_count": 20,
          "metadata": {},
          "output_type": "execute_result"
        },
        {
          "data": {
            "image/png": "[encoded data removed]",
            "text/plain": [
              "<Figure size 640x480 with 1 Axes>"
            ]
          },
          "metadata": {},
          "output_type": "display_data"
        }
      ],
      "source": [
        "# Comparison of gender columns\n",
        "sns.countplot(data = df_purchase, x = \"Gender\")"
      ]
    },
    {
      "cell_type": "code",
      "execution_count": null,
      "metadata": {
        "colab": {
          "base_uri": "https://localhost:8080/",
          "height": 470
        },
        "id": "M-KLxko2giSW",
        "outputId": "30afcfce-44ca-41d5-defb-68505c44c89c"
      },
      "outputs": [
        {
          "data": {
            "text/plain": [
              "<Axes: xlabel='Age', ylabel='count'>"
            ]
          },
          "execution_count": 21,
          "metadata": {},
          "output_type": "execute_result"
        },
        {
          "data": {
            "image/png": "[encoded data removed]",
            "text/plain": [
              "<Figure size 640x480 with 1 Axes>"
            ]
          },
          "metadata": {},
          "output_type": "display_data"
        }
      ],
      "source": [
        "# Count plot\n",
        "sns.countplot(x = \"Age\",hue = \"Gender\", data = df_purchase)"
      ]
    },
    {
      "cell_type": "markdown",
      "metadata": {
        "id": "Y5Q3g3L5mxUZ"
      },
      "source": [
        "## Statistical Analysis"
      ]
    },
    {
      "cell_type": "markdown",
      "metadata": {},
      "source": [
        "A. It was observed that the average purchase made by the Men of the age 18-25 was 10000. Is it still the same?"
      ]
    },
    {
      "cell_type": "code",
      "execution_count": 22,
      "metadata": {
        "id": "j44oEK69myvB"
      },
      "outputs": [],
      "source": [
        "# used test :- t test (one sample)\n",
        "\n",
        "# null hypothesis - The mean is 10000\n",
        "# alternate hypothesis - The mean is not 10000\n"
      ]
    },
    {
      "cell_type": "code",
      "execution_count": null,
      "metadata": {
        "colab": {
          "base_uri": "https://localhost:8080/"
        },
        "id": "GKRxnAreqJ_Z",
        "outputId": "527feb1f-cc32-4403-913b-0f9e50e39be2"
      },
      "outputs": [],
      "source": [
        "# filter out the data bases on men and age = 18-25\n",
        "population = df_purchase[(df_purchase['Age'] == \"18-25\") & (df_purchase['Gender'] == \"M\")]\n",
        "population = population['Purchase']\n",
        "sample = population.sample(30)"
      ]
    },
    {
      "cell_type": "code",
      "execution_count": 24,
      "metadata": {
        "colab": {
          "base_uri": "https://localhost:8080/",
          "height": 1000
        },
        "id": "UUoCdDo0qa9N",
        "outputId": "cbb35279-e1a4-4208-afaa-3c4372b367d4"
      },
      "outputs": [
        {
          "name": "stdout",
          "output_type": "stream",
          "text": [
            "Fail to reject the null hypothesis. The average purchase made by the men of the age 18-25 is still 10k\n",
            "t-statistic : 1.5977346497259528\n",
            "p-value : 0.12094258249261756\n"
          ]
        }
      ],
      "source": [
        "from scipy import stats\n",
        "import numpy as np\n",
        "\n",
        "# data\n",
        "sample_mean = np.mean(sample)\n",
        "sample_std = np.std(sample)\n",
        "sample_size = 30\n",
        "population_mean = np.mean(population)\n",
        "alpha = 0.05\n",
        "\n",
        "# calculate the t-statistics\n",
        "t_statistic = (sample_mean - population_mean) / (sample_std / np.sqrt(sample_size))\n",
        "\n",
        "# degree of freedom\n",
        "dof = sample_size - 1\n",
        "\n",
        "# calculate the p-value\n",
        "p_value = stats.t.sf(np.abs(t_statistic), dof) * 2\n",
        "\n",
        "# determine whether to accept or reject the null hypothesis\n",
        "if p_value < alpha :\n",
        "    print(\"Reject the null hypothesis. The average purchase made by the men of the age 18-25 is no more 10k\")\n",
        "else :\n",
        "    print(\"Fail to reject the null hypothesis. The average purchase made by the men of the age 18-25 is still 10k\")\n",
        "\n",
        "# print the results\n",
        "print(\"t-statistic :\", t_statistic)\n",
        "print(\"p-value :\", p_value)"
      ]
    },
    {
      "cell_type": "markdown",
      "metadata": {},
      "source": [
        "B. It was observed that the percentage of women of the age that spend more than 10000 was 35%. Is it still the same?"
      ]
    },
    {
      "cell_type": "code",
      "execution_count": 25,
      "metadata": {
        "colab": {
          "base_uri": "https://localhost:8080/"
        },
        "id": "rKH2NC_ZsGoM",
        "outputId": "edc3a3f2-98aa-45f9-9673-745d45f898e2"
      },
      "outputs": [],
      "source": [
        "# used test :- z test proportion\n",
        "\n",
        "# null hypothesis - proportion is 35%.\n",
        "# alternate hypothesis - proportion is not 35%."
      ]
    },
    {
      "cell_type": "code",
      "execution_count": 26,
      "metadata": {},
      "outputs": [],
      "source": [
        "# temporary df consist record having 'purchase' more than 10k\n",
        "temp_data = df_purchase[df_purchase['Purchase'] > 10000]"
      ]
    },
    {
      "cell_type": "code",
      "execution_count": 27,
      "metadata": {},
      "outputs": [
        {
          "name": "stdout",
          "output_type": "stream",
          "text": [
            "z statistic value :  -79.12020590883206\n",
            "p-value :  0.0\n",
            "Reject the null hypothesis. The percentage of women of the age that spend more than 10000 is no more 35%\n"
          ]
        }
      ],
      "source": [
        "import numpy as np\n",
        "from statsmodels.stats.proportion import proportions_ztest\n",
        "\n",
        "# data\n",
        "womens_count = temp_data[temp_data['Gender'] == 'F'].value_counts().sum()\n",
        "total_population = len(temp_data)\n",
        "\n",
        "# significance level\n",
        "alpha = 0.05\n",
        "\n",
        "# perform z test for proportion\n",
        "z_statistic, p_value = proportions_ztest(count=womens_count, nobs=total_population, value=0.35)\n",
        "\n",
        "# print the results\n",
        "print(\"z statistic value : \", z_statistic)\n",
        "print(\"p-value : \", p_value)\n",
        "\n",
        "# determine whether to accept or reject the null hypothesis\n",
        "if p_value < alpha :\n",
        "    print(\"Reject the null hypothesis. The percentage of women of the age that spend more than 10000 is no more 35%\")\n",
        "else :\n",
        "    print(\"Fail to reject the null hypothesis. The percentage of women of the age that spend more than 10000 is still 35%\")"
      ]
    },
    {
      "cell_type": "markdown",
      "metadata": {},
      "source": [
        "C. Are the variances of the purchase amounts significantly different between men and women in the age group 18-25?"
      ]
    },
    {
      "cell_type": "code",
      "execution_count": 71,
      "metadata": {},
      "outputs": [],
      "source": [
        "# temporary df having records of \"Age\" between 18-25\n",
        "temp_data = df_purchase[df_purchase['Age'] == '18-25']\n",
        "\n",
        "# sample 1 having records of purchase of mens of 'age' 18-25\n",
        "s1 = temp_data[temp_data['Gender'] == 'M']\n",
        "s1 = s1['Purchase'].sample(50)\n",
        "\n",
        "# sample 2 having records of purchase of womens of 'age' 18-25\n",
        "s2 = temp_data[temp_data['Gender'] == 'F']\n",
        "s2 = s2['Purchase'].sample(60)"
      ]
    },
    {
      "cell_type": "code",
      "execution_count": 72,
      "metadata": {},
      "outputs": [
        {
          "name": "stdout",
          "output_type": "stream",
          "text": [
            "Fail to reject the null hypothesis. Variances of purchase amount between men & women are same\n",
            "F-statistic value :- 17.80751831459746\n",
            "P-value :- 0.9999999999999999\n",
            "Degrees of freedom :- 49 , 59\n"
          ]
        }
      ],
      "source": [
        "import numpy as np\n",
        "from scipy.stats import f\n",
        "\n",
        "# data\n",
        "n1 = len(s1)\n",
        "n2 = len(s2)\n",
        "ssd1 = np.std(s1)\n",
        "ssd2 = np.std(s2)\n",
        "\n",
        "# calculate variance\n",
        "variance1 = ssd1 / (n1 - 1)\n",
        "variance2 = ssd2 / (n2 - 1)\n",
        "\n",
        "# calculate f statistic\n",
        "f_statistic = variance1 - variance2\n",
        "\n",
        "# degree of freedom\n",
        "dof1 = n1 - 1\n",
        "dof2 = n2 - 1\n",
        "\n",
        "# calculate p value\n",
        "p_value = f.cdf(f_statistic, dof1, dof2)\n",
        "\n",
        "# compare the p_value to a significance level(alpha)\n",
        "alpha = 0.05\n",
        "if p_value < alpha:\n",
        "    print(\"Reject the null hypothesis. Variances of purchase amounts between men & women are significantly different\")\n",
        "else :\n",
        "    print(\"Fail to reject the null hypothesis. Variances of purchase amount between men & women are same\")\n",
        "\n",
        "# print the result\n",
        "print(\"F-statistic value :-\", f_statistic)\n",
        "print(\"P-value :-\", p_value)\n",
        "print(\"Degrees of freedom :-\", dof1, ',', dof2)"
      ]
    },
    {
      "cell_type": "markdown",
      "metadata": {},
      "source": [
        "D. Is the percentage of men who have spent more than 10000 the same for the ages 18-25 and 26-35?"
      ]
    },
    {
      "cell_type": "code",
      "execution_count": 106,
      "metadata": {},
      "outputs": [],
      "source": [
        "# sample 1 having records of age '18-25' & purchase more than 10k\n",
        "data_age1 = df_purchase[(df_purchase['Age'] == '18-25') & (df_purchase['Purchase'] > 10000)]\n",
        "\n",
        "# sample 1 having records of age '26-35' & purchase more than 10k\n",
        "data_age2 = df_purchase[(df_purchase['Age'] == '26-35') & (df_purchase['Purchase'] > 10000)]"
      ]
    },
    {
      "cell_type": "code",
      "execution_count": 114,
      "metadata": {},
      "outputs": [
        {
          "name": "stdout",
          "output_type": "stream",
          "text": [
            "Fail to reject the null hypothesis: Percentage of both age groups are same\n",
            "F-statistic: -0.8006835417246146\n",
            "P-value: 0.4233148729326266\n",
            "mens in sample1 is 93 & sample2 is 98\n",
            "total no. of person in sample1 is 120 & sample2 is 120 (i.e. mens & womens)\n"
          ]
        }
      ],
      "source": [
        "from statsmodels.stats.proportion import proportions_ztest\n",
        "\n",
        "# sample from population\n",
        "s1 = data_age1.sample(120, random_state=0)\n",
        "s2 = data_age2.sample(120, random_state=0)\n",
        "\n",
        "# count of mens from sample\n",
        "count = [(s1['Gender'] == 'M').sum(), (s2['Gender'] == 'M').sum()]\n",
        "\n",
        "# total no of observations in sample\n",
        "nobs = [len(s1), len(s2)]\n",
        "\n",
        "# Calculate F-statistic & p-value\n",
        "f_statistic, p_value = proportions_ztest(count=count, nobs=nobs)\n",
        "\n",
        "# Compare the p-value to a significance level (e.g., 0.05)\n",
        "alpha = 0.05\n",
        "if p_value < alpha:\n",
        "    print(\"Reject the null hypothesis: Percentage of both age groups are not same\")\n",
        "else:\n",
        "    print(\"Fail to reject the null hypothesis: Percentage of both age groups are same\")\n",
        "\n",
        "# print the result\n",
        "print(\"F-statistic:\", f_statistic)\n",
        "print(\"P-value:\", p_value)\n",
        "print(f\"mens in sample1 is {count[0]} & sample2 is {count[1]}\")\n",
        "print(f\"total no. of person in sample1 is {nobs[0]} & sample2 is {nobs[1]} (i.e. mens & womens)\")"
      ]
    },
    {
      "cell_type": "markdown",
      "metadata": {},
      "source": [
        "END"
      ]
    },
    {
      "cell_type": "markdown",
      "metadata": {},
      "source": [
        "---"
      ]
    }
  ],
  "metadata": {
    "colab": {
      "provenance": []
    },
    "kernelspec": {
      "display_name": "Python 3",
      "name": "python3"
    },
    "language_info": {
      "codemirror_mode": {
        "name": "ipython",
        "version": 3
      },
      "file_extension": ".py",
      "mimetype": "text/x-python",
      "name": "python",
      "nbconvert_exporter": "python",
      "pygments_lexer": "ipython3",
      "version": "3.12.1"
    }
  },
  "nbformat": 4,
  "nbformat_minor": 0
}
